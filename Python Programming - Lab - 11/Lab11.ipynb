{
 "cells": [
  {
   "attachments": {},
   "cell_type": "markdown",
   "metadata": {},
   "source": [
    "<a href='https://www.darshan.ac.in/'> <img src='https://www.darshan.ac.in/Content/media/DU_Logo.svg' width=\"250\" height=\"300\"/></a>\n",
    "<pre>\n",
    "<center><b><h1>Python Programming - 2301CS404</b></center>\n",
    "<center><b><h1>Lab - 11</b></center>    \n",
    "<pre>"
   ]
  },
  {
   "cell_type": "markdown",
   "metadata": {},
   "source": [
    "<h1>Krish Meghapara</h1>\n",
    "<h2>23010101164</h2>"
   ]
  },
  {
   "cell_type": "markdown",
   "metadata": {},
   "source": [
    "# Modules"
   ]
  },
  {
   "cell_type": "markdown",
   "metadata": {},
   "source": [
    "### 01) WAP to create Calculator module which defines functions like add, sub,mul and div. \n",
    "### Create another .py file that uses the functions available in Calculator module."
   ]
  },
  {
   "cell_type": "code",
   "execution_count": null,
   "metadata": {},
   "outputs": [],
   "source": [
    "import calculator\n",
    "\n",
    "a, b = 10, 5\n",
    "print(\"Addition:\", calculator.add(a, b))\n",
    "print(\"Subtraction:\", calculator.sub(a, b))\n",
    "print(\"Multiplication:\", calculator.mul(a, b))\n",
    "print(\"Division:\", calculator.div(a, b))\n"
   ]
  },
  {
   "cell_type": "markdown",
   "metadata": {},
   "source": [
    "### 02) WAP to pick a random character from a given String."
   ]
  },
  {
   "cell_type": "code",
   "execution_count": 5,
   "metadata": {},
   "outputs": [
    {
     "name": "stdout",
     "output_type": "stream",
     "text": [
      "Random character: W\n"
     ]
    }
   ],
   "source": [
    "import random\n",
    "\n",
    "string = \"Hello, World!\"\n",
    "random_char = random.choice(string)\n",
    "print(\"Random character:\", random_char)\n"
   ]
  },
  {
   "cell_type": "markdown",
   "metadata": {},
   "source": [
    "### 03) WAP to pick a random element from a given list."
   ]
  },
  {
   "cell_type": "code",
   "execution_count": 12,
   "metadata": {},
   "outputs": [
    {
     "name": "stdout",
     "output_type": "stream",
     "text": [
      "Random element: 10\n"
     ]
    }
   ],
   "source": [
    "import random\n",
    "\n",
    "my_list = [10, 20, 30, 40, 50]\n",
    "random_element = random.choice(my_list)\n",
    "print(\"Random element:\", random_element)\n"
   ]
  },
  {
   "cell_type": "markdown",
   "metadata": {},
   "source": [
    "### 04) WAP to roll a dice in such a way that every time you get the same number."
   ]
  },
  {
   "cell_type": "code",
   "execution_count": 25,
   "metadata": {},
   "outputs": [
    {
     "name": "stdout",
     "output_type": "stream",
     "text": [
      "Rolled Dice: 2\n"
     ]
    }
   ],
   "source": [
    "import random\n",
    "\n",
    "def fixed_dice():\n",
    "    random.seed() \n",
    "    return random.randint(1, 6)\n",
    "\n",
    "print(\"Rolled Dice:\", fixed_dice())\n"
   ]
  },
  {
   "cell_type": "markdown",
   "metadata": {},
   "source": [
    "### 05) WAP to generate 3 random integers between 100 and 999 which is divisible by 5."
   ]
  },
  {
   "cell_type": "code",
   "execution_count": null,
   "metadata": {},
   "outputs": [],
   "source": [
    "import random\n",
    "\n",
    "numbers = [random.randint(100, 999) // 5 * 5 for _ in range(3)]\n",
    "print(\"Random numbers divisible by 5:\", numbers)\n"
   ]
  },
  {
   "cell_type": "markdown",
   "metadata": {},
   "source": [
    "### 06) WAP to generate 100 random lottery tickets and pick two lucky tickets from it and announce them as Winner and Runner up respectively."
   ]
  },
  {
   "cell_type": "code",
   "execution_count": 26,
   "metadata": {},
   "outputs": [
    {
     "name": "stdout",
     "output_type": "stream",
     "text": [
      "Winner: 965189\n",
      "Runner-up: 132637\n"
     ]
    }
   ],
   "source": [
    "import random\n",
    "\n",
    "lottery_tickets = [random.randint(100000, 999999) for _ in range(100)]\n",
    "winners = random.sample(lottery_tickets, 2)\n",
    "\n",
    "print(\"Winner:\", winners[0])\n",
    "print(\"Runner-up:\", winners[1])\n"
   ]
  },
  {
   "cell_type": "markdown",
   "metadata": {},
   "source": [
    "### 07) WAP to print current date and time in Python."
   ]
  },
  {
   "cell_type": "code",
   "execution_count": 27,
   "metadata": {},
   "outputs": [
    {
     "name": "stdout",
     "output_type": "stream",
     "text": [
      "Current Date & Time: 2025-02-13 12:48:55.754167\n"
     ]
    }
   ],
   "source": [
    "from datetime import datetime\n",
    "\n",
    "current_time = datetime.now()\n",
    "print(\"Current Date & Time:\", current_time)\n",
    "    "
   ]
  },
  {
   "cell_type": "markdown",
   "metadata": {},
   "source": [
    "### 08) Subtract a week (7 days) from a given date in Python."
   ]
  },
  {
   "cell_type": "code",
   "execution_count": 7,
   "metadata": {},
   "outputs": [
    {
     "name": "stdout",
     "output_type": "stream",
     "text": [
      "Date after subtracting a week: 2023-09-30 00:00:00\n"
     ]
    }
   ],
   "source": [
    "from datetime import datetime, timedelta\n",
    "\n",
    "\n",
    "given_date = datetime(2023, 10, 15)  \n",
    "new_date = given_date - timedelta(days=7)\n",
    "print(\"Date after subtracting a week:\", new_date)"
   ]
  },
  {
   "cell_type": "markdown",
   "metadata": {},
   "source": [
    "### 09) WAP to Calculate number of days between two given dates."
   ]
  },
  {
   "cell_type": "code",
   "execution_count": null,
   "metadata": {},
   "outputs": [],
   "source": [
    "from datetime import datetime\n",
    "\n",
    "\n",
    "date1 = datetime(2023, 10, 1)\n",
    "date2 = datetime(2023, 10, 15)\n",
    "difference = date2 - date1\n",
    "print(\"Number of days between the two dates:\", difference.days)"
   ]
  },
  {
   "cell_type": "markdown",
   "metadata": {},
   "source": [
    "### 10) WAP to Find the day of the week of a given date.(i.e. wether it is sunday/monday/tuesday/etc.)"
   ]
  },
  {
   "cell_type": "code",
   "execution_count": 28,
   "metadata": {},
   "outputs": [
    {
     "name": "stdout",
     "output_type": "stream",
     "text": [
      "Day of the week: Sunday\n"
     ]
    }
   ],
   "source": [
    "from datetime import datetime\n",
    "\n",
    "given_date = datetime(2023, 10, 15)\n",
    "day_of_week = given_date.strftime(\"%A\")\n",
    "print(\"Day of the week:\", day_of_week)"
   ]
  },
  {
   "cell_type": "markdown",
   "metadata": {},
   "source": [
    "### 11) WAP to demonstrate the use of date time module."
   ]
  },
  {
   "cell_type": "code",
   "execution_count": 29,
   "metadata": {},
   "outputs": [
    {
     "name": "stdout",
     "output_type": "stream",
     "text": [
      "Current Date and Time: 2025-02-13 12:59:12.474445\n",
      "Date after 10 days: 2025-02-23 12:59:12.474445\n",
      "Formatted Date and Time: 2025-02-13 12:59:12\n"
     ]
    }
   ],
   "source": [
    "from datetime import datetime, timedelta\n",
    "\n",
    "\n",
    "now = datetime.now()\n",
    "print(\"Current Date and Time:\", now)\n",
    "\n",
    "future_date = now + timedelta(days=10)\n",
    "print(\"Date after 10 days:\", future_date)\n",
    "\n",
    "formatted_date = now.strftime(\"%Y-%m-%d %H:%M:%S\")\n",
    "print(\"Formatted Date and Time:\", formatted_date)"
   ]
  },
  {
   "cell_type": "markdown",
   "metadata": {},
   "source": [
    "### 12) WAP to demonstrate the use of the math module."
   ]
  },
  {
   "cell_type": "code",
   "execution_count": 33,
   "metadata": {},
   "outputs": [
    {
     "name": "stdout",
     "output_type": "stream",
     "text": [
      "Square root of 16 is 4.0\n",
      "Cosine of 45 degrees is 0.7071067811865476\n",
      "Factorial of 5 is 120\n"
     ]
    }
   ],
   "source": [
    "import math\n",
    "\n",
    "number = 16\n",
    "sqrt_value = math.sqrt(number)\n",
    "print(\"Square root of\", number, \"is\", sqrt_value)\n",
    "\n",
    "angle = math.pi / 4 \n",
    "cos_value = math.cos(angle)\n",
    "print(\"Cosine of 45 degrees is\", cos_value) \n",
    "\n",
    "factorial_value = math.factorial(5)\n",
    "print(\"Factorial of 5 is\", factorial_value)"
   ]
  },
  {
   "cell_type": "code",
   "execution_count": null,
   "metadata": {},
   "outputs": [],
   "source": []
  }
 ],
 "metadata": {
  "kernelspec": {
   "display_name": "Python 3 (ipykernel)",
   "language": "python",
   "name": "python3"
  },
  "language_info": {
   "codemirror_mode": {
    "name": "ipython",
    "version": 3
   },
   "file_extension": ".py",
   "mimetype": "text/x-python",
   "name": "python",
   "nbconvert_exporter": "python",
   "pygments_lexer": "ipython3",
   "version": "3.12.7"
  }
 },
 "nbformat": 4,
 "nbformat_minor": 4
}
