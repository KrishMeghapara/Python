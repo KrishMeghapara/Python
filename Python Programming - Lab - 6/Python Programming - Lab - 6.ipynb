{
 "cells": [
  {
   "attachments": {},
   "cell_type": "markdown",
   "metadata": {},
   "source": [
    "<a href='https://www.darshan.ac.in/'> <img src='https://www.darshan.ac.in/Content/media/DU_Logo.svg' width=\"250\" height=\"300\"/></a>\n",
    "<pre>\n",
    "<center><b><h1>Python Programming - 2301CS404</b></center>\n",
    "<center><b><h1>Lab - 6</b></center>    \n",
    "<pre>"
   ]
  },
  {
   "cell_type": "markdown",
   "metadata": {},
   "source": [
    "<h1> Krish Meghapara S. </h1>\n",
    "<h2>23010101164</h2> "
   ]
  },
  {
   "cell_type": "markdown",
   "metadata": {},
   "source": [
    "# Tuple"
   ]
  },
  {
   "cell_type": "markdown",
   "metadata": {},
   "source": [
    "### 01) WAP to find sum of tuple elements."
   ]
  },
  {
   "cell_type": "code",
   "execution_count": null,
   "metadata": {},
   "outputs": [],
   "source": [
    "t = (1,2,3,4,5,6)\n",
    "print(sum(t))"
   ]
  },
  {
   "cell_type": "markdown",
   "metadata": {},
   "source": [
    "### 02) WAP to find Maximum and Minimum K elements in a given tuple."
   ]
  },
  {
   "cell_type": "code",
   "execution_count": null,
   "metadata": {},
   "outputs": [],
   "source": [
    "t = (1,6,3,2,9,6)\n",
    "max,min = t[0],t[0]\n",
    "\n",
    "for i in t:\n",
    "    if i > max:\n",
    "        max = i\n",
    "    elif i < min:\n",
    "        min = i\n",
    "\n",
    "print(f'max : {max}')\n",
    "print(f'min : {min}')"
   ]
  },
  {
   "cell_type": "markdown",
   "metadata": {},
   "source": [
    "### 03) WAP to find tuples which have all elements divisible by K from a list of tuples."
   ]
  },
  {
   "cell_type": "code",
   "execution_count": null,
   "metadata": {},
   "outputs": [],
   "source": [
    "l = [(1,2,3,4),(5,6,7,8),(2,4,6,8),(1,2,5,7),(5,10)]\n",
    "k = 2\n",
    "count = 0\n",
    "\n",
    "for i in l:\n",
    "    for j in i:\n",
    "        if j % k != 0:\n",
    "            count += 1\n",
    "            \n",
    "    if count == 0:\n",
    "        print(i)\n",
    "    count = 0"
   ]
  },
  {
   "cell_type": "markdown",
   "metadata": {},
   "source": [
    "### 04) WAP to create a list of tuples from given list having number and its cube in each tuple."
   ]
  },
  {
   "cell_type": "code",
   "execution_count": null,
   "metadata": {},
   "outputs": [],
   "source": [
    "l = [1,2,3,4,5,6]\n",
    "\n",
    "ans = [(i,i**3) for i in l]\n",
    "ans"
   ]
  },
  {
   "cell_type": "markdown",
   "metadata": {},
   "source": [
    "### 05) WAP to find tuples with all positive elements from the given list of tuples."
   ]
  },
  {
   "cell_type": "code",
   "execution_count": 10,
   "metadata": {},
   "outputs": [
    {
     "name": "stdout",
     "output_type": "stream",
     "text": [
      "(1, 2, 3, 4)\n",
      "(2, 4, 6, 8)\n",
      "(3, 8, 9)\n"
     ]
    }
   ],
   "source": [
    "listOfTuples = [(1,2,3,4),(5,-6,7,8),(2,4,6,8),(1,-2,5,7),(5,-10),(3,8,9)]\n",
    "\n",
    "for i in listOfTuples:\n",
    "    if all(j>0 for j in i):\n",
    "        print(i)"
   ]
  },
  {
   "cell_type": "markdown",
   "metadata": {},
   "source": [
    "### 06) WAP to add tuple to list and vice – versa."
   ]
  },
  {
   "cell_type": "code",
   "execution_count": 14,
   "metadata": {},
   "outputs": [
    {
     "name": "stdout",
     "output_type": "stream",
     "text": [
      "(1, 2, 4, 6, 8, 4, [5, 6, 7])\n",
      "[389, (1, 2, 3)]\n"
     ]
    }
   ],
   "source": [
    "tuple1 = (1,2,3)\n",
    "list1 = [5,6,7]\n",
    "\n",
    "list2 = [389]\n",
    "list2.append(tuple1);\n",
    "\n",
    "tuple2 = (1,2,4,6,8,4);\n",
    "\n",
    "\n",
    "tuple2 = list(tuple2);\n",
    "tuple2.append(list1);\n",
    "tuple2 = tuple(tuple2);\n",
    "print(tuple2);\n",
    "\n",
    "print(list2);"
   ]
  },
  {
   "cell_type": "markdown",
   "metadata": {},
   "source": [
    "### 07) WAP to remove tuples of length K."
   ]
  },
  {
   "cell_type": "code",
   "execution_count": 7,
   "metadata": {},
   "outputs": [
    {
     "name": "stdin",
     "output_type": "stream",
     "text": [
      " 5\n"
     ]
    },
    {
     "name": "stdout",
     "output_type": "stream",
     "text": [
      "[(1, 2, 3, 6), (1, 2, 5, 7), (2, 4, 6, 8), (5, -10), (1, 1, 1, 1), (2, 2, 2, 2)]\n"
     ]
    }
   ],
   "source": [
    "listOfTuples = [(1,2,3,6),(1,2,5,7),(5,-6,7,8,9),(2,4,6,8),(5,-10),(1,1,1,1),(2,2,2,2)]\n",
    "listOfTuples2 = listOfTuples.copy()\n",
    "k = int(input());\n",
    "\n",
    "for i in listOfTuples2:\n",
    "    if len(i) == k:\n",
    "        listOfTuples.remove(i)\n",
    "print(listOfTuples)"
   ]
  },
  {
   "cell_type": "markdown",
   "metadata": {},
   "source": [
    "### 08) WAP to remove duplicates from tuple."
   ]
  },
  {
   "cell_type": "code",
   "execution_count": 18,
   "metadata": {},
   "outputs": [
    {
     "name": "stdout",
     "output_type": "stream",
     "text": [
      "(1, 2, 3, 4, 6, 8, 9)\n"
     ]
    }
   ],
   "source": [
    "tuple1 = (1,1,2,3,4,3,6,8,9,9)\n",
    "# it will convert tuple to set , set does not have any duplicates.\n",
    "tuple1 = set(tuple1)\n",
    "# it will convert set to tuple. \n",
    "tuple1 = tuple(tuple1)\n",
    "\n",
    "print(tuple1)"
   ]
  },
  {
   "cell_type": "markdown",
   "metadata": {},
   "source": [
    "### 09) WAP to multiply adjacent elements of a tuple and print that resultant tuple."
   ]
  },
  {
   "cell_type": "code",
   "execution_count": 50,
   "metadata": {},
   "outputs": [
    {
     "data": {
      "text/plain": [
       "[2, 6, 12, 20]"
      ]
     },
     "execution_count": 50,
     "metadata": {},
     "output_type": "execute_result"
    }
   ],
   "source": [
    "#tuple1 = (10,2,23,44,5)\n",
    "#ans = ();\n",
    "\n",
    "#for i in range (0,len(tuple1),1):\n",
    " #   ans.append(tuple1[i])\n",
    "  #  print(ans)\n",
    "    \n",
    "#print(ans)\n",
    "\n",
    "\n",
    "t1 = (1,2,3,4,5)\n",
    "t1 = list(t1)\n",
    "\n",
    "ans = [(i*(i+1)) for i in range (1,len(t1))]\n",
    "ans\n"
   ]
  },
  {
   "cell_type": "markdown",
   "metadata": {},
   "source": [
    "### 10) WAP to test if the given tuple is distinct or not."
   ]
  },
  {
   "cell_type": "code",
   "execution_count": null,
   "metadata": {},
   "outputs": [],
   "source": [
    "l = [(1,2,3,6),(1,2,5,7),(5,-6,7,8,9),(1,2,3,6),(5,-10),(1,1,1,1),(2,2,2,2)]\n",
    "\n",
    "# for i in \n",
    "\n",
    "t = (1,2,3,4,5)\n",
    "t1 = list(t)\n",
    "t2 = set(t)\n",
    "\n",
    "if len(t1) == len(t2):\n",
    "    print(\"No dups\")\n",
    "else:\n",
    "    print(\"has dups\")\n"
   ]
  }
 ],
 "metadata": {
  "kernelspec": {
   "display_name": "Python 3 (ipykernel)",
   "language": "python",
   "name": "python3"
  },
  "language_info": {
   "codemirror_mode": {
    "name": "ipython",
    "version": 3
   },
   "file_extension": ".py",
   "mimetype": "text/x-python",
   "name": "python",
   "nbconvert_exporter": "python",
   "pygments_lexer": "ipython3",
   "version": "3.12.7"
  }
 },
 "nbformat": 4,
 "nbformat_minor": 4
}
