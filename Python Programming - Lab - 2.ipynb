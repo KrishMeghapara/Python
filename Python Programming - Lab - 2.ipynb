{
 "cells": [
  {
   "cell_type": "markdown",
   "metadata": {},
   "source": [
    "\n",
    "<a href='https://www.darshan.ac.in/'> <img src='https://www.darshan.ac.in/Content/media/DU_Logo.svg' width=\"250\" height=\"300\"/></a>\n",
    "<pre>\n",
    "<center><b><h1>Python Programming - 2301CS404</b></center>\n",
    "<center><b><h1>Lab - 2</b></center>    \n",
    "<pre>"
   ]
  },
  {
   "cell_type": "markdown",
   "metadata": {},
   "source": [
    "<h1> Krish Meghapara S.</h1>\n",
    "  <h2>23010101164</h2>"
   ]
  },
  {
   "cell_type": "markdown",
   "metadata": {},
   "source": [
    "# if..else.."
   ]
  },
  {
   "cell_type": "markdown",
   "metadata": {},
   "source": [
    "### 01) WAP to check whether the given number is positive or negative."
   ]
  },
  {
   "cell_type": "code",
   "execution_count": 11,
   "metadata": {},
   "outputs": [
    {
     "name": "stdout",
     "output_type": "stream",
     "text": [
      "Enter Num ..  -18\n"
     ]
    },
    {
     "name": "stdout",
     "output_type": "stream",
     "text": [
      "-18 number is Negative ... \n"
     ]
    }
   ],
   "source": [
    "num = int(input(\"Enter Num .. \"))\n",
    "if (num < 0 ):\n",
    "    print(num,\"number is Negative ... \");\n",
    "    \n",
    "else:\n",
    "    print(num,\"number is Positive\");\n"
   ]
  },
  {
   "cell_type": "markdown",
   "metadata": {},
   "source": [
    "### 02) WAP to check whether the given number is odd or even."
   ]
  },
  {
   "cell_type": "code",
   "execution_count": 1,
   "metadata": {},
   "outputs": [
    {
     "name": "stdout",
     "output_type": "stream",
     "text": [
      "Number is Even \n"
     ]
    }
   ],
   "source": [
    "num = int(input(\"Enter a number .. \"));\n",
    "\n",
    "if(num%2==0):\n",
    "    print(\"Number is Even \");\n",
    "\n",
    "else:\n",
    "    print(\"Number is Odd\");"
   ]
  },
  {
   "cell_type": "markdown",
   "metadata": {},
   "source": [
    "### 03) WAP to find out largest number from given two numbers using simple if and ternary operator."
   ]
  },
  {
   "cell_type": "code",
   "execution_count": 7,
   "metadata": {},
   "outputs": [
    {
     "name": "stdin",
     "output_type": "stream",
     "text": [
      "Enter a number - 1 ..  2\n",
      "Enter a number - 2..  5\n"
     ]
    },
    {
     "name": "stdout",
     "output_type": "stream",
     "text": [
      "5 Num2 is Greter.\n",
      "Num2 id Greter\n"
     ]
    }
   ],
   "source": [
    "num1 = int(input(\"Enter a number - 1 .. \"));\n",
    "num2 = int(input(\"Enter a number - 2.. \"));\n",
    "\n",
    "if num1 > num2:\n",
    "    print(num1,\"Num1 is Greter.\")\n",
    "else:\n",
    "    print(num2,\"Num2 is Greter.\")\n",
    "\n",
    "print (\"Num1 id Greter\") if (num1>num2) else print(\"Num2 id Greter\")\n",
    "\n",
    "    \n"
   ]
  },
  {
   "cell_type": "markdown",
   "metadata": {},
   "source": [
    "### 04) WAP to find out largest number from given three numbers."
   ]
  },
  {
   "cell_type": "code",
   "execution_count": 10,
   "metadata": {},
   "outputs": [
    {
     "name": "stdin",
     "output_type": "stream",
     "text": [
      "Enter a number - 1 ..  2\n",
      "Enter a number - 2..  5\n",
      "Enter a number - 3..  4\n"
     ]
    },
    {
     "name": "stdout",
     "output_type": "stream",
     "text": [
      "5 Num2 is Greter.\n"
     ]
    }
   ],
   "source": [
    "num1 = int(input(\"Enter a number - 1 .. \"));\n",
    "num2 = int(input(\"Enter a number - 2.. \"));\n",
    "num3 = int(input(\"Enter a number - 3.. \"));\n",
    "\n",
    "if num1 > num2:\n",
    "    if num1>num3 :\n",
    "        print(num1,\"Num1 is Greter.\")\n",
    "    else :\n",
    "        print(num3,\"Num3 is Greter.\")\n",
    "    \n",
    "else:\n",
    "    if num2>num3:\n",
    "        print(num2,\"Num2 is Greter.\")\n",
    "    else :\n",
    "        print(num3,\"Num3 is Greter.\")"
   ]
  },
  {
   "cell_type": "markdown",
   "metadata": {},
   "source": [
    "### 05) WAP to check whether the given year is leap year or not.\n",
    "[If a year can be divisible by 4 but not divisible by 100 then it is leap year but if it is divisible by 400 then it is leap year]"
   ]
  },
  {
   "cell_type": "code",
   "execution_count": 28,
   "metadata": {},
   "outputs": [
    {
     "name": "stdin",
     "output_type": "stream",
     "text": [
      "Enter Year .  2003\n"
     ]
    },
    {
     "name": "stdout",
     "output_type": "stream",
     "text": [
      "Not a leap year\n"
     ]
    }
   ],
   "source": [
    "year = int(input(\"Enter Year . \"));\n",
    "\n",
    "if year%4==0:\n",
    "    if year%100!=0:\n",
    "        if year%400==0:\n",
    "            print(\"Year is leap Year\");\n",
    "        else : \n",
    "            print(\"Not a leap year\");\n",
    "else :\n",
    "    print(\"Not a leap year\");"
   ]
  },
  {
   "cell_type": "markdown",
   "metadata": {},
   "source": [
    "### 06) WAP in python to display the name of the day according to the number given by the user."
   ]
  },
  {
   "cell_type": "code",
   "execution_count": 29,
   "metadata": {},
   "outputs": [
    {
     "name": "stdin",
     "output_type": "stream",
     "text": [
      "Enter a number between 1 - 7 , 1 for Monday , 2 for Tuesday , 3 for Wednesday, 4 for Thursday, 5 for Friday, 6 for Saturday, 7 for Sunday ,  5\n"
     ]
    },
    {
     "name": "stdout",
     "output_type": "stream",
     "text": [
      "Friday\n"
     ]
    }
   ],
   "source": [
    "number = int(input(\"Enter a number between 1 - 7 , 1 for Monday , 2 for Tuesday , 3 for Wednesday, 4 for Thursday, 5 for Friday, 6 for Saturday, 7 for Sunday , \"));\n",
    "\n",
    "if number==1:\n",
    "    print(\"Monday\");\n",
    "elif number==2:\n",
    "    print(\"Thesday\");\n",
    "elif number==3:\n",
    "    print(\"Wednesday\");\n",
    "elif number==4:\n",
    "    print(\"Thursday\");\n",
    "elif number==5:\n",
    "    print(\"Friday\");\n",
    "elif number==6:\n",
    "    print(\"Saturday\");\n",
    "elif number==7:\n",
    "    print(\"Sunday\");\n",
    "else:\n",
    "    print(\"Invalid NUmber \");"
   ]
  },
  {
   "cell_type": "markdown",
   "metadata": {},
   "source": [
    "### 07) WAP to implement simple calculator which performs (add,sub,mul,div) of two no. based on user input."
   ]
  },
  {
   "cell_type": "code",
   "execution_count": 31,
   "metadata": {},
   "outputs": [
    {
     "name": "stdin",
     "output_type": "stream",
     "text": [
      "Enter a number - 1 ..  2\n",
      "Enter a number - 2..  3\n",
      "Enter key what do you want to do..  +\n"
     ]
    },
    {
     "name": "stdout",
     "output_type": "stream",
     "text": [
      "5\n"
     ]
    }
   ],
   "source": [
    "num1 = int(input(\"Enter a number - 1 .. \"));\n",
    "num2 = int(input(\"Enter a number - 2.. \"));\n",
    "\n",
    "Key = input(\"Enter key what do you want to do.. \");\n",
    "\n",
    "match Key:\n",
    "    case '+':\n",
    "        print(num1+num2);\n",
    "    case '-':\n",
    "        print(num1-num2);\n",
    "    case '/':\n",
    "        print(num1-num2);\n",
    "    case '*':\n",
    "        print(num1*num2);\n",
    "        \n"
   ]
  },
  {
   "cell_type": "markdown",
   "metadata": {},
   "source": [
    "### 08) WAP to read marks of five subjects. Calculate percentage and print class accordingly. \n",
    "Fail below 35 </br>\n",
    "Pass Class between 35 to 45 </br>\n",
    "Second Class</br>\n",
    "between 45 to 60</br>\n",
    "First Class between 60 to 70</br> \n",
    "Distinction if more than 70"
   ]
  },
  {
   "cell_type": "code",
   "execution_count": 38,
   "metadata": {},
   "outputs": [
    {
     "name": "stdin",
     "output_type": "stream",
     "text": [
      "Enter a marks of subject1 ..  80\n",
      "Enter a marks of subject1 ..  80\n",
      "Enter a marks of subject1 ..  80\n",
      "Enter a marks of subject1 ..  80\n",
      "Enter a marks of subject1 ..  80\n"
     ]
    },
    {
     "name": "stdout",
     "output_type": "stream",
     "text": [
      "you got Distincion\n"
     ]
    }
   ],
   "source": [
    "subject1 = int(input(\"Enter a marks of subject1 .. \"));\n",
    "subject2 = int(input(\"Enter a marks of subject1 .. \"));\n",
    "subject3 = int(input(\"Enter a marks of subject1 .. \"));\n",
    "subject4 = int(input(\"Enter a marks of subject1 .. \"));\n",
    "subject5 = int(input(\"Enter a marks of subject1 .. \"));\n",
    "\n",
    "percentage = (((subject1+subject2+subject3+subject4+subject5)*100)/500);\n",
    "\n",
    "if percentage > 70:\n",
    "    print(\"you got Distincion\")\n",
    "elif percentage > 60 or percentage < 70:\n",
    "    print(\"You Got First Class\")\n",
    "elif percentage > 45 or percentage <60 :\n",
    "    print(\"You got Second Class\");\n",
    "elif percentage < 35 or percentage < 45:\n",
    "    print (\"You got Pass\")\n",
    "elif percentage < 35:\n",
    "    print(\"You got Fail\")\n"
   ]
  },
  {
   "cell_type": "markdown",
   "metadata": {},
   "source": [
    "### 09) Three sides of a triangle are entered through the keyboard, WAP to check whether the triangle is isosceles, equilateral, scalene or right-angled triangle."
   ]
  },
  {
   "cell_type": "code",
   "execution_count": 41,
   "metadata": {},
   "outputs": [
    {
     "name": "stdin",
     "output_type": "stream",
     "text": [
      "Enter the length of the first side:  5\n",
      "Enter the length of the second side:  5\n",
      "Enter the length of the third side:  5\n"
     ]
    },
    {
     "name": "stdout",
     "output_type": "stream",
     "text": [
      "The triangle is Equilateral.\n"
     ]
    }
   ],
   "source": [
    " a = int(input(\"Enter the length of the first side: \"))\n",
    " b = int(input(\"Enter the length of the second side: \"))\n",
    " c = int(input(\"Enter the length of the third side: \"))\n",
    "if a == b == c:\n",
    "    print(\"The triangle is Equilateral.\")\n",
    "elif a == b or b == c or a == c:\n",
    "    print(\"The triangle is Isosceles.\")\n",
    "elif a**2 + b**2 == c**2 or b**2 + c**2 == a**2 or c**2 + a**2 == b**2:\n",
    "    print(\"The triangle is Right-angled.\")\n",
    "else:\n",
    "    print(\"The triangle is Scalene.\")"
   ]
  },
  {
   "cell_type": "markdown",
   "metadata": {},
   "source": [
    "### 10) WAP to find the second largest number among three user input numbers."
   ]
  },
  {
   "cell_type": "code",
   "execution_count": null,
   "metadata": {},
   "outputs": [],
   "source": [
    "num1 = int(input(\"Enter a number - 1 .. \"));\n",
    "num2 = int(input(\"Enter a number - 2.. \"));\n",
    "num3 = int(input(\"Enter a number - 3.. \"));\n",
    "\n",
    "if num1 > num2:\n",
    "    if num3 > num2:\n",
    "        if num1 > num3:\n",
    "            print(\"Num 3 is second Largest.\")\n",
    "    else :\n",
    "        print(\"Num 2 is Second Largest.\")\n",
    "else :\n",
    "    if num1>num3:\n",
    "        print(\"Num 1 is Second Largest.\")\n",
    "    elif num2 > num3:\n",
    "        print(\"Num 3 is Secons Largest.\")\n"
   ]
  },
  {
   "cell_type": "markdown",
   "metadata": {},
   "source": [
    "### 11) WAP to calculate electricity bill based on following criteria. Which takes the unit from the user.\n",
    "a. First 1 to 50 units – Rs. 2.60/unit</br>\n",
    "b. Next 50 to 100 units – Rs. 3.25/unit</br>\n",
    "c. Next 100 to 200 units – Rs. 5.26/unit</br>\n",
    "d. above 200 units – Rs. 8.45/unit"
   ]
  },
  {
   "cell_type": "code",
   "execution_count": 36,
   "metadata": {},
   "outputs": [
    {
     "name": "stdin",
     "output_type": "stream",
     "text": [
      "ENter Unit  50\n"
     ]
    },
    {
     "name": "stdout",
     "output_type": "stream",
     "text": [
      "162.5\n"
     ]
    }
   ],
   "source": [
    "unit = int(input(\"ENter Unit \"));\n",
    "if unit >=1 and unit < 50:\n",
    "    price = unit * 2.60;\n",
    "    print(price);\n",
    "elif unit >=50 and unit < 100:\n",
    "    price = unit * 3.25;\n",
    "    print(price);\n",
    "elif unit >=100 and unit < 200:\n",
    "    price = unit * 5.26;\n",
    "    print(price);\n",
    "elif unit >=200:\n",
    "    price = unit * 8.45;\n",
    "    print(price);"
   ]
  },
  {
   "cell_type": "code",
   "execution_count": null,
   "metadata": {},
   "outputs": [],
   "source": []
  }
 ],
 "metadata": {
  "kernelspec": {
   "display_name": "Python 3 (ipykernel)",
   "language": "python",
   "name": "python3"
  },
  "language_info": {
   "codemirror_mode": {
    "name": "ipython",
    "version": 3
   },
   "file_extension": ".py",
   "mimetype": "text/x-python",
   "name": "python",
   "nbconvert_exporter": "python",
   "pygments_lexer": "ipython3",
   "version": "3.12.7"
  }
 },
 "nbformat": 4,
 "nbformat_minor": 4
}
