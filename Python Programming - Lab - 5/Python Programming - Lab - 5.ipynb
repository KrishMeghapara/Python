{
 "cells": [
  {
   "cell_type": "markdown",
   "metadata": {},
   "source": [
    "\n",
    "<a href='https://www.darshan.ac.in/'> <img src='https://www.darshan.ac.in/Content/media/DU_Logo.svg' width=\"250\" height=\"300\"/></a>\n",
    "<pre>\n",
    "<center><b><h1>Python Programming - 2301CS404</b></center>\n",
    "<center><b><h1>Lab - 5</b></center>    \n",
    "<pre>"
   ]
  },
  {
   "cell_type": "markdown",
   "metadata": {},
   "source": [
    "<h1>Krish Meghapara s.</h1>\n",
    "<h2>23010101164</h2>"
   ]
  },
  {
   "cell_type": "markdown",
   "metadata": {},
   "source": [
    "# List"
   ]
  },
  {
   "cell_type": "markdown",
   "metadata": {},
   "source": [
    "### 01) WAP to find sum of all the elements in a List."
   ]
  },
  {
   "cell_type": "code",
   "execution_count": 2,
   "metadata": {},
   "outputs": [
    {
     "name": "stdout",
     "output_type": "stream",
     "text": [
      "15\n"
     ]
    }
   ],
   "source": [
    "list1 = [1,2,3,4,5]\n",
    "\n",
    "# 1+2+3+4+5 will be 15 \n",
    "\n",
    "sum = 0 ;\n",
    "for i in list1:\n",
    "    sum = sum + i ;\n",
    "\n",
    "print( sum );"
   ]
  },
  {
   "cell_type": "markdown",
   "metadata": {},
   "source": [
    "### 02) WAP to find largest element in a List."
   ]
  },
  {
   "cell_type": "code",
   "execution_count": 3,
   "metadata": {},
   "outputs": [
    {
     "name": "stdout",
     "output_type": "stream",
     "text": [
      "20\n"
     ]
    }
   ],
   "source": [
    "list1 = [1,20,3,4,5]\n",
    "\n",
    "# here in list 20 is large \n",
    "\n",
    "large = 0 ;\n",
    "for i in list1:\n",
    "    if large < i :\n",
    "        large = i ;\n",
    "\n",
    "print(large);"
   ]
  },
  {
   "cell_type": "markdown",
   "metadata": {},
   "source": [
    "### 03) WAP to find the length of a List."
   ]
  },
  {
   "cell_type": "code",
   "execution_count": 4,
   "metadata": {},
   "outputs": [
    {
     "name": "stdout",
     "output_type": "stream",
     "text": [
      "5\n"
     ]
    }
   ],
   "source": [
    "list1 = [1,2,3,4,5]\n",
    "count = 0 ;\n",
    "for i in list1:\n",
    "    count = count + 1 ; # it will count no of element in list\n",
    "print(count)"
   ]
  },
  {
   "cell_type": "markdown",
   "metadata": {},
   "source": [
    "### 04) WAP to interchange first and last elements in a list."
   ]
  },
  {
   "cell_type": "code",
   "execution_count": 10,
   "metadata": {},
   "outputs": [
    {
     "name": "stdout",
     "output_type": "stream",
     "text": [
      "now first element is  list[0] and now last element is  list[4] , here first element of list is interchanged with last element \n"
     ]
    }
   ],
   "source": [
    "list1 = [1,2,3,4,5]\n",
    "count = 0 ;\n",
    "for i in list1:\n",
    "    count = count + 1 ; # it will give us last +1 index of list\n",
    "\n",
    "extraVeriable = list1[0];\n",
    "list1[0] = list1[count-1];\n",
    "list1[count-1]= extraVeriable;\n",
    "\n",
    "print(f\"now first element is  {list[0]} and now last element is  {list[count-1]} , here first element of list is interchanged with last element \")\n",
    "\n"
   ]
  },
  {
   "cell_type": "markdown",
   "metadata": {},
   "source": [
    "### 05) WAP to split the List into two parts and append the first part to the end."
   ]
  },
  {
   "cell_type": "code",
   "execution_count": 12,
   "metadata": {},
   "outputs": [
    {
     "name": "stdout",
     "output_type": "stream",
     "text": [
      "[6, 7, 8, 9, 10, 1, 2, 3, 4, 5]\n"
     ]
    }
   ],
   "source": [
    "orignalList = [1,2,3,4,5,6,7,8,9,10]\n",
    "\n",
    "list1 = orignalList[:5];\n",
    "list2 = orignalList[5:];\n",
    "\n",
    "# here i just put first 5 elements to the end of list. \n",
    "\n",
    "newList =  list2 + list1;\n",
    "\n",
    "print(newList);\n"
   ]
  },
  {
   "cell_type": "markdown",
   "metadata": {},
   "source": [
    "### 06) WAP to interchange the elements on two positions entered by a user."
   ]
  },
  {
   "cell_type": "code",
   "execution_count": 15,
   "metadata": {},
   "outputs": [
    {
     "name": "stdin",
     "output_type": "stream",
     "text": [
      "Enter first position .  2\n",
      "Enter second position .  3\n"
     ]
    },
    {
     "name": "stdout",
     "output_type": "stream",
     "text": [
      "[1, 3, 2, 4, 5, 6, 7, 8, 9, 10]\n"
     ]
    }
   ],
   "source": [
    "position1 = (int(input(\"Enter first position . \"))-1);\n",
    "position2 = (int(input(\"Enter second position . \"))-1);\n",
    "\n",
    "orignalList = [1,2,3,4,5,6,7,8,9,10];\n",
    "\n",
    "extraVeriable = orignalList[position1];\n",
    "orignalList[position1] = orignalList[position2];\n",
    "orignalList[position2]= extraVeriable;\n",
    "\n",
    "print(orignalList);\n"
   ]
  },
  {
   "cell_type": "markdown",
   "metadata": {},
   "source": [
    "### 07) WAP to reverse the list entered by user."
   ]
  },
  {
   "cell_type": "code",
   "execution_count": 18,
   "metadata": {},
   "outputs": [
    {
     "name": "stdout",
     "output_type": "stream",
     "text": [
      "[10, 9, 8, 7, 6, 5, 4, 3, 2, 1]\n"
     ]
    }
   ],
   "source": [
    "orignalList = [1,2,3,4,5,6,7,8,9,10];\n",
    "orignalList.reverse();\n",
    "\n",
    "print(orignalList);"
   ]
  },
  {
   "cell_type": "markdown",
   "metadata": {},
   "source": [
    "### 08) WAP to print even numbers in a list."
   ]
  },
  {
   "cell_type": "code",
   "execution_count": 19,
   "metadata": {},
   "outputs": [
    {
     "name": "stdout",
     "output_type": "stream",
     "text": [
      "2\n",
      "4\n",
      "6\n",
      "8\n",
      "10\n"
     ]
    }
   ],
   "source": [
    "orignalList = [1,2,3,4,5,6,7,8,9,10];\n",
    "\n",
    "for i in orignalList:\n",
    "    if i % 2 == 0 :\n",
    "        print(i);\n",
    "\n",
    "\n",
    "        "
   ]
  },
  {
   "cell_type": "markdown",
   "metadata": {},
   "source": [
    "### 09) WAP to count unique items in a list."
   ]
  },
  {
   "cell_type": "code",
   "execution_count": 22,
   "metadata": {},
   "outputs": [
    {
     "name": "stdout",
     "output_type": "stream",
     "text": [
      "8\n"
     ]
    }
   ],
   "source": [
    "orignalList = [1,2,1,4,5,6,7,8,9,10];\n",
    "\n",
    "count = 0;\n",
    "\n",
    "for i in orignalList:\n",
    "    if orignalList.count(i) > 1:\n",
    "        count = count + 0 ;\n",
    "    else :\n",
    "        count = count + 1;\n",
    "\n",
    "print(count);"
   ]
  },
  {
   "cell_type": "markdown",
   "metadata": {},
   "source": [
    "### 10) WAP to copy a list."
   ]
  },
  {
   "cell_type": "code",
   "execution_count": 23,
   "metadata": {},
   "outputs": [
    {
     "name": "stdout",
     "output_type": "stream",
     "text": [
      "[1, 2, 1, 4, 5, 6, 7, 8, 9, 10]\n"
     ]
    }
   ],
   "source": [
    "orignalList = [1,2,1,4,5,6,7,8,9,10];\n",
    "\n",
    "copyList = orignalList.copy();\n",
    "\n",
    "print(copyList);"
   ]
  },
  {
   "cell_type": "markdown",
   "metadata": {},
   "source": [
    "### 11) WAP to print all odd numbers in a given range."
   ]
  },
  {
   "cell_type": "code",
   "execution_count": 24,
   "metadata": {},
   "outputs": [
    {
     "name": "stdin",
     "output_type": "stream",
     "text": [
      "Enter 1 st number or starting range  4\n",
      "Enter 2 st number or ending range  8\n"
     ]
    },
    {
     "name": "stdout",
     "output_type": "stream",
     "text": [
      "5\n",
      "7\n"
     ]
    }
   ],
   "source": [
    "orignalList = [1,2,3,4,5,6,7,8,9,10];\n",
    "\n",
    "input1= int(input(\"Enter 1 st number or starting range \"))\n",
    "input2= int(input(\"Enter 2 st number or ending range \"))\n",
    "\n",
    "\n",
    "for i in range(input1,input2,1):\n",
    "    if i % 2 != 0 :\n",
    "        print(i);\n",
    "\n",
    "\n",
    "        "
   ]
  },
  {
   "cell_type": "markdown",
   "metadata": {},
   "source": [
    "### 12) WAP to count occurrences of an element in a list."
   ]
  },
  {
   "cell_type": "code",
   "execution_count": 25,
   "metadata": {},
   "outputs": [
    {
     "name": "stdout",
     "output_type": "stream",
     "text": [
      "number 1 occurrences is 2\n",
      "number 2 occurrences is 1\n",
      "number 1 occurrences is 2\n",
      "number 4 occurrences is 1\n",
      "number 5 occurrences is 1\n",
      "number 6 occurrences is 1\n",
      "number 7 occurrences is 1\n",
      "number 8 occurrences is 1\n",
      "number 9 occurrences is 1\n",
      "number 10 occurrences is 1\n"
     ]
    }
   ],
   "source": [
    "orignalList = [1,2,1,4,5,6,7,8,9,10];\n",
    "\n",
    "count = 0;\n",
    "\n",
    "for i in orignalList:\n",
    "    print(f\"number {i} occurrences is {orignalList.count(i)}\")\n"
   ]
  },
  {
   "cell_type": "markdown",
   "metadata": {},
   "source": [
    "### 13) WAP to find second largest number in a list."
   ]
  },
  {
   "cell_type": "code",
   "execution_count": 26,
   "metadata": {},
   "outputs": [
    {
     "name": "stdout",
     "output_type": "stream",
     "text": [
      "40 40\n"
     ]
    }
   ],
   "source": [
    "list1 = [1,20,3,40,5]\n",
    "\n",
    "# here in list 20 is second large \n",
    "\n",
    "large1 = 0 ;\n",
    "large2 = 0 ;\n",
    "for i in list1:\n",
    "    if large1 < i :\n",
    "        large1 = i ;\n",
    "        if large2 < large1:\n",
    "            large2 = large1;\n",
    "\n",
    "print(large1,large2);"
   ]
  },
  {
   "cell_type": "markdown",
   "metadata": {},
   "source": [
    "### 14) WAP to extract elements with frequency greater than K."
   ]
  },
  {
   "cell_type": "code",
   "execution_count": 32,
   "metadata": {},
   "outputs": [
    {
     "name": "stdin",
     "output_type": "stream",
     "text": [
      "Enter frequency 2\n"
     ]
    },
    {
     "name": "stdout",
     "output_type": "stream",
     "text": [
      "number 1 occurrences is 4\n",
      "number 1 occurrences is 4\n",
      "number 1 occurrences is 4\n",
      "number 1 occurrences is 4\n"
     ]
    }
   ],
   "source": [
    "orignalList = [1,2,1,4,1,6,1,8,9,10];\n",
    "\n",
    "k = int(input(\"Enter frequency\"))\n",
    "\n",
    "count = 0;\n",
    "\n",
    "for i in orignalList:\n",
    "    if orignalList.count(i) > k :\n",
    "        print(f\"number {i} occurrences is {orignalList.count(i)}\")\n"
   ]
  },
  {
   "cell_type": "markdown",
   "metadata": {},
   "source": [
    "### 15) WAP to create a list of squared numbers from 0 to 9 with and without using List Comprehension."
   ]
  },
  {
   "cell_type": "code",
   "execution_count": 31,
   "metadata": {},
   "outputs": [
    {
     "name": "stdout",
     "output_type": "stream",
     "text": [
      "[1, 4, 1, 16, 25, 36, 49, 64, 81, 100] [0, 1, 4, 9, 16, 25, 36, 49, 64]\n"
     ]
    }
   ],
   "source": [
    "orignalList = [1,2,1,4,5,6,7,8,9,10];\n",
    "newList = [];\n",
    "for i in orignalList:\n",
    "    newList.append(i*i)\n",
    "\n",
    "comprehensionalList = [i**2 for i in range(0,9)]\n",
    "\n",
    "print(newList,comprehensionalList)"
   ]
  },
  {
   "cell_type": "markdown",
   "metadata": {},
   "source": [
    "### 16) WAP to create a new list (fruit whose name starts with 'b') from the list of fruits given by user."
   ]
  },
  {
   "cell_type": "code",
   "execution_count": 36,
   "metadata": {},
   "outputs": [
    {
     "name": "stdout",
     "output_type": "stream",
     "text": [
      "Fruits whose names start with 'b': ['Banana', 'Blueberry']\n"
     ]
    }
   ],
   "source": [
    "fruits = [\n",
    "    \"Apple\",\n",
    "    \"Banana\",\n",
    "    \"Orange\",\n",
    "    \"Mango\",\n",
    "    \"Grapes\",\n",
    "    \"Pineapple\",\n",
    "    \"Strawberry\",\n",
    "    \"Blueberry\",\n",
    "    \"Raspberry\",\n",
    "    \"Watermelon\",\n",
    "    \"Papaya\",\n",
    "    \"Kiwi\",\n",
    "    \"Pear\",\n",
    "    \"Peach\",\n",
    "    \"Plum\",\n",
    "    \"Cherry\",\n",
    "    \"Guava\",\n",
    "    \"Pomegranate\",\n",
    "    \"Coconut\",\n",
    "    \"Lemon\",\n",
    "    \"Lime\",\n",
    "    \"Fig\",\n",
    "    \"Dragonfruit\",\n",
    "    \"Lychee\",\n",
    "    \"Apricot\"\n",
    "    \n",
    "]\n",
    "\n",
    "fruits = [fruit.strip() for fruit in fruits]\n",
    "fruit_b = [fruit for fruit in fruits if fruit.lower().startswith('b')]\n",
    "print(\"Fruits whose names start with 'b':\",fruit_b)\n",
    "\n"
   ]
  },
  {
   "cell_type": "markdown",
   "metadata": {},
   "source": [
    "### 17) WAP to create a list of common elements from given two lists."
   ]
  },
  {
   "cell_type": "code",
   "execution_count": null,
   "metadata": {},
   "outputs": [],
   "source": [
    "\n",
    "list1 = input(\"Enter the first list of elements, separated by commas: \").split(',')\n",
    "list2 = input(\"Enter the second list of elements, separated by commas: \").split(',')\n",
    "\n",
    "\n",
    "list1 = [item.strip() for item in list1]\n",
    "list2 = [item.strip() for item in list2]\n",
    "\n",
    "common_elements = [item for item in list1 if item in list2]\n",
    "\n",
    "print(\"Common elements:\", common_elements)"
   ]
  }
 ],
 "metadata": {
  "kernelspec": {
   "display_name": "Python 3 (ipykernel)",
   "language": "python",
   "name": "python3"
  },
  "language_info": {
   "codemirror_mode": {
    "name": "ipython",
    "version": 3
   },
   "file_extension": ".py",
   "mimetype": "text/x-python",
   "name": "python",
   "nbconvert_exporter": "python",
   "pygments_lexer": "ipython3",
   "version": "3.12.7"
  }
 },
 "nbformat": 4,
 "nbformat_minor": 4
}
