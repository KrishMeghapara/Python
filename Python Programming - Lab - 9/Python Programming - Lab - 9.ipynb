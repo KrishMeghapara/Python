{
 "cells": [
  {
   "cell_type": "markdown",
   "metadata": {},
   "source": [
    "<a href='https://www.darshan.ac.in/'> <img src='https://www.darshan.ac.in/Content/media/DU_Logo.svg' width=\"250\" height=\"300\"/></a>\n",
    "<pre>\n",
    "<center><b><h1>Python Programming - 2301CS404</b></center>\n",
    "<center><b><h1>Lab - 9</b></center>    \n",
    "<pre>"
   ]
  },
  {
   "cell_type": "markdown",
   "metadata": {},
   "source": [
    "<h1>Krish Meghapara s.</h1>\n",
    "<h2>23010101164</h2>"
   ]
  },
  {
   "cell_type": "markdown",
   "metadata": {},
   "source": [
    "# File I/O"
   ]
  },
  {
   "cell_type": "markdown",
   "metadata": {},
   "source": [
    "### 01) WAP to read and display the contents of a text file. (also try to open the file in some other directory) \n",
    "#### - in the form of a string\n",
    "#### - line by line\n",
    "#### - in the form of a list"
   ]
  },
  {
   "cell_type": "code",
   "execution_count": 25,
   "metadata": {},
   "outputs": [
    {
     "name": "stdout",
     "output_type": "stream",
     "text": [
      "Hello From Python >\n",
      "here is 2 nd line >\n",
      "-----------------------------------\n",
      "['Hello From Python >', 'here is 2 nd line >']\n"
     ]
    }
   ],
   "source": [
    "fp = open(\"MyData.txt\",\"r\")\n",
    "\n",
    "fp.seek(0)\n",
    "\n",
    "li = fp.readlines()\n",
    "for i in li:\n",
    "    print(i, end=\"\")\n",
    "\n",
    "print('')\n",
    "print(\"-----------------------------------\")\n",
    "\n",
    "fp.seek(0)\n",
    "\n",
    "data=fp.read();\n",
    "list1 = data.split('\\n')\n",
    "print(list1) \n"
   ]
  },
  {
   "cell_type": "markdown",
   "metadata": {},
   "source": [
    "### 02) WAP to create file named \"new.txt\" only if it doesn't exist."
   ]
  },
  {
   "cell_type": "code",
   "execution_count": 29,
   "metadata": {},
   "outputs": [],
   "source": [
    "fp = open(\"new.txt\",\"w\")  \n",
    "s1 = \"Hello Students\"      \n",
    "fp.write(s1)\n",
    "fp.close()"
   ]
  },
  {
   "cell_type": "markdown",
   "metadata": {},
   "source": [
    "### 03) WAP to read first 5 lines from the text file."
   ]
  },
  {
   "cell_type": "code",
   "execution_count": 30,
   "metadata": {},
   "outputs": [
    {
     "name": "stdout",
     "output_type": "stream",
     "text": [
      "['Hello From Python >\\n', 'here is 2 nd line >'][]"
     ]
    }
   ],
   "source": [
    "fp = open(\"MyData.txt\",\"r\")\n",
    "for i in (1,5):\n",
    "    print(fp.readlines(), end=\"\")\n",
    "fp.close()"
   ]
  },
  {
   "cell_type": "markdown",
   "metadata": {},
   "source": [
    "### 04) WAP to find the longest word(s) in a file"
   ]
  },
  {
   "cell_type": "code",
   "execution_count": 34,
   "metadata": {},
   "outputs": [
    {
     "name": "stdout",
     "output_type": "stream",
     "text": [
      "Longest word: Python\n",
      "Length: 6\n"
     ]
    }
   ],
   "source": [
    "fp = open('MyData.txt', 'r')\n",
    "words = fp.read().split()\n",
    "longest = max(words, key=len)\n",
    "print(f\"Longest word: {longest}\")\n",
    "print(f\"Length: {len(longest)}\")\n"
   ]
  },
  {
   "cell_type": "markdown",
   "metadata": {},
   "source": [
    "### 05) WAP to count the no. of lines, words and characters in a given text file."
   ]
  },
  {
   "cell_type": "code",
   "execution_count": 37,
   "metadata": {},
   "outputs": [
    {
     "name": "stdout",
     "output_type": "stream",
     "text": [
      "Lines: 2\n",
      "Words: 8\n",
      "Characters: 37\n"
     ]
    }
   ],
   "source": [
    "fp = open('MyData.txt', 'r')\n",
    "content = fp.read()\n",
    "lines = content.splitlines()\n",
    "words = content.split()\n",
    "characters = len(content)\n",
    "    \n",
    "print(f\"Lines: {len(lines)}\")\n",
    "print(f\"Words: {len(words)}\")\n",
    "print(f\"Characters: {characters}\")\n"
   ]
  },
  {
   "cell_type": "markdown",
   "metadata": {},
   "source": [
    "### 06) WAP to copy the content of a file to the another file."
   ]
  },
  {
   "cell_type": "code",
   "execution_count": 38,
   "metadata": {},
   "outputs": [
    {
     "name": "stdout",
     "output_type": "stream",
     "text": [
      "Content copied successfully!\n"
     ]
    }
   ],
   "source": [
    "fp = open('MyData.txt', 'r')\n",
    "fw = open('NewData.txt', 'w')\n",
    "fw.write(fp.read())\n",
    "\n",
    "print(\"Content copied successfully!\")\n"
   ]
  },
  {
   "cell_type": "markdown",
   "metadata": {},
   "source": [
    "### 07) WAP to find the size of the text file. "
   ]
  },
  {
   "cell_type": "code",
   "execution_count": 39,
   "metadata": {},
   "outputs": [
    {
     "name": "stdout",
     "output_type": "stream",
     "text": [
      "Size of 'MyData.txt': 37 bytes\n"
     ]
    }
   ],
   "source": [
    "import os\n",
    "file_path = 'MyData.txt'  \n",
    "file_size = os.path.getsize(file_path)\n",
    "print(f\"Size of '{file_path}': {file_size} bytes\")\n"
   ]
  },
  {
   "cell_type": "markdown",
   "metadata": {},
   "source": [
    "### 08) WAP to create an UDF named frequency to count occurances of the specific word in a given text file."
   ]
  },
  {
   "cell_type": "code",
   "execution_count": 43,
   "metadata": {},
   "outputs": [
    {
     "name": "stdout",
     "output_type": "stream",
     "text": [
      "The word 'Pythonn' appears 1 times in the file.\n"
     ]
    }
   ],
   "source": [
    "def frequency(file_path, word):\n",
    "    fp = open(file_path, 'r')\n",
    "    content = fp.read()\n",
    "    return content.lower().split().count(word.lower())\n",
    "\n",
    "\n",
    "file_path = 'MyData.txt'  \n",
    "word = 'Python' \n",
    "count = frequency(file_path, word)\n",
    "print(f\"The word '{word}' appears {count+1} times in the file.\")\n"
   ]
  },
  {
   "cell_type": "markdown",
   "metadata": {},
   "source": [
    "### 09) WAP to get the score of five subjects from the user, store them in a file. Fetch those marks and find the highest score."
   ]
  },
  {
   "cell_type": "code",
   "execution_count": 46,
   "metadata": {},
   "outputs": [
    {
     "name": "stdin",
     "output_type": "stream",
     "text": [
      "Enter score for subject 1:  1\n",
      "Enter score for subject 2:  2\n",
      "Enter score for subject 3:  3\n",
      "Enter score for subject 4:  4\n",
      "Enter score for subject 5:  5\n"
     ]
    },
    {
     "name": "stdout",
     "output_type": "stream",
     "text": [
      "Scores: [1, 2, 3, 4, 5]\n",
      "Highest Score: 5\n"
     ]
    }
   ],
   "source": [
    "\n",
    "fp = open('scores.txt', 'w') \n",
    "scores = [int(input(f\"Enter score for subject {i + 1}: \")) for i in range(5)]\n",
    "fp.write(\"\\n\".join(map(str, scores)))\n",
    "fp.close()\n",
    "\n",
    "fp = open('scores.txt', 'r')\n",
    "scores = list(map(int, fp.readlines()))\n",
    "\n",
    "\n",
    "print(f\"Scores: {scores}\")\n",
    "print(f\"Highest Score: {max(scores)}\")\n"
   ]
  },
  {
   "cell_type": "markdown",
   "metadata": {},
   "source": [
    "### 10) WAP to write first 100 prime numbers to a file named primenumbers.txt \n",
    "(Note: each number should be in new line)"
   ]
  },
  {
   "cell_type": "code",
   "execution_count": 47,
   "metadata": {},
   "outputs": [
    {
     "name": "stdout",
     "output_type": "stream",
     "text": [
      "First 100 prime numbers have been written to 'primenumbers.txt'.\n"
     ]
    }
   ],
   "source": [
    "with open('primenumbers.txt', 'w') as file:\n",
    "    count = 0\n",
    "    num = 2\n",
    "    while count < 100:\n",
    "        is_prime = True\n",
    "        for i in range(2, int(num**0.5) + 1):\n",
    "            if num % i == 0:\n",
    "                is_prime = False\n",
    "                break\n",
    "        if is_prime:\n",
    "            file.write(str(num) + '\\n')\n",
    "            count += 1\n",
    "        num += 1\n",
    "\n",
    "print(\"First 100 prime numbers have been written to 'primenumbers.txt'.\")\n"
   ]
  },
  {
   "cell_type": "markdown",
   "metadata": {},
   "source": [
    "### 11) WAP to merge two files and write it in a new file."
   ]
  },
  {
   "cell_type": "code",
   "execution_count": 50,
   "metadata": {},
   "outputs": [],
   "source": [
    "fp = open('MyData.txt', 'r')\n",
    "fp1 = open('NewData.txt', 'r')\n",
    "fp2 = open('New1.txt', 'w')\n",
    "data = fp.read()\n",
    "data1 = fp1.read()\n",
    "fdata = data +'\\n'+ data1\n",
    "fp2.write(fdata)\n",
    "fp.close()\n",
    "fp1.close()\n",
    "fp2.close()"
   ]
  },
  {
   "cell_type": "markdown",
   "metadata": {},
   "source": [
    "### 12) WAP to replace word1 by word2 of a text file. Write the updated data to new file."
   ]
  },
  {
   "cell_type": "code",
   "execution_count": 51,
   "metadata": {},
   "outputs": [
    {
     "name": "stdout",
     "output_type": "stream",
     "text": [
      "The word has been replaced and saved in 'new_file.txt'.\n"
     ]
    }
   ],
   "source": [
    "\n",
    "fp = open('MyData.txt', 'r')\n",
    "content = fp.read()\n",
    "\n",
    "updated_content = content.replace('word1', 'word2')\n",
    "\n",
    "fw = open('new_file.txt', 'w')\n",
    "fw.write(updated_content)\n",
    "\n",
    "print(\"The word has been replaced and saved in 'new_file.txt'.\")\n"
   ]
  },
  {
   "cell_type": "markdown",
   "metadata": {},
   "source": [
    "### 13) Demonstrate tell() and seek() for all the cases(seek from beginning-end-current position) taking a suitable example of your choice."
   ]
  },
  {
   "cell_type": "code",
   "execution_count": 54,
   "metadata": {},
   "outputs": [
    {
     "name": "stdout",
     "output_type": "stream",
     "text": [
      "Before reading pointer is at: 0\n",
      "After reading 2 characters pointer is at:  2\n",
      "Before reading:  0\n",
      "After reading 6 characters, pointer is at: 6\n",
      "After seeking pointer to beginning of the file: 0\n"
     ]
    }
   ],
   "source": [
    "fp = open(\"MyData.txt\",\"r\")\n",
    "print(\"Before reading pointer is at:\", fp.tell()) \n",
    "fp.read(2)\n",
    "print(\"After reading 2 characters pointer is at: \",fp.tell())\n",
    "fp.close()\n",
    "\n",
    "fp = open(\"MyData.txt\",\"r\")\n",
    "print(\"Before reading: \",fp.tell())\n",
    "fp.read(6)\n",
    "print(\"After reading 6 characters, pointer is at:\", fp.tell())\n",
    "fp.seek(0,0) \n",
    "print(\"After seeking pointer to beginning of the file:\", fp.tell())\n",
    "fp.close()"
   ]
  },
  {
   "cell_type": "code",
   "execution_count": null,
   "metadata": {},
   "outputs": [],
   "source": []
  }
 ],
 "metadata": {
  "kernelspec": {
   "display_name": "Python 3 (ipykernel)",
   "language": "python",
   "name": "python3"
  },
  "language_info": {
   "codemirror_mode": {
    "name": "ipython",
    "version": 3
   },
   "file_extension": ".py",
   "mimetype": "text/x-python",
   "name": "python",
   "nbconvert_exporter": "python",
   "pygments_lexer": "ipython3",
   "version": "3.12.7"
  }
 },
 "nbformat": 4,
 "nbformat_minor": 4
}
