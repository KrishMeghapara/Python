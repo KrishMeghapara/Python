{
 "cells": [
  {
   "cell_type": "markdown",
   "metadata": {},
   "source": [
    "<a href='https://www.darshan.ac.in/'> <img src='https://www.darshan.ac.in/Content/media/DU_Logo.svg' width=\"250\" height=\"300\"/></a>\n",
    "<pre>\n",
    "<center><b><h1>Python Programming - 2301CS404</b></center>\n",
    "<center><b><h1>Lab - 8</b></center>    \n",
    "<pre>"
   ]
  },
  {
   "cell_type": "markdown",
   "metadata": {},
   "source": [
    "<h1>Krish Meghapara s.</h1>\n",
    "<h2>23010101164</h2>"
   ]
  },
  {
   "cell_type": "markdown",
   "metadata": {},
   "source": [
    "# User Defined Function"
   ]
  },
  {
   "cell_type": "markdown",
   "metadata": {},
   "source": [
    "### 01) Write a function to calculate BMI given mass and height. (BMI = mass/h**2)"
   ]
  },
  {
   "cell_type": "code",
   "execution_count": 2,
   "metadata": {},
   "outputs": [
    {
     "name": "stdout",
     "output_type": "stream",
     "text": [
      "0.013888888888888888\n"
     ]
    }
   ],
   "source": [
    "def BMI(whight,hight):\n",
    "    ans= whight/(hight**2)\n",
    "    print(ans)\n",
    "BMI(50,60)\n"
   ]
  },
  {
   "cell_type": "markdown",
   "metadata": {},
   "source": [
    "### 02) Write a function that add first n numbers."
   ]
  },
  {
   "cell_type": "code",
   "execution_count": 14,
   "metadata": {},
   "outputs": [
    {
     "name": "stdout",
     "output_type": "stream",
     "text": [
      "0\n",
      "1\n",
      "3\n",
      "6\n",
      "10\n",
      "15\n"
     ]
    }
   ],
   "source": [
    "def sumOfNNumber(n):\n",
    "    ans = 0\n",
    "    for i in range(0,n) :\n",
    "        ans = ans + i\n",
    "        print(ans)\n",
    "sumOfNNumber(6)"
   ]
  },
  {
   "cell_type": "markdown",
   "metadata": {},
   "source": [
    "### 03) Write a function that returns 1 if the given number is Prime or 0 otherwise."
   ]
  },
  {
   "cell_type": "code",
   "execution_count": 13,
   "metadata": {},
   "outputs": [
    {
     "data": {
      "text/plain": [
       "1"
      ]
     },
     "execution_count": 13,
     "metadata": {},
     "output_type": "execute_result"
    }
   ],
   "source": [
    "def isPrime(n):\n",
    "\n",
    "    count = 0;\n",
    "    for i in range(1,n+1,1):\n",
    "    \n",
    "        if n % i == 0 :\n",
    "            count = count + 1;\n",
    "        else :\n",
    "            count = count + 0;\n",
    "\n",
    "    \n",
    "    if count == 2 :\n",
    "        return 1;\n",
    "    else : \n",
    "        return 0;\n",
    "isPrime(67)"
   ]
  },
  {
   "cell_type": "markdown",
   "metadata": {},
   "source": [
    "### 04) Write a function that returns the list of Prime numbers between given two numbers."
   ]
  },
  {
   "cell_type": "code",
   "execution_count": 8,
   "metadata": {},
   "outputs": [
    {
     "data": {
      "text/plain": [
       "[2, 3, 5, 7, 11, 13, 17, 19, 23, 29, 31, 37, 41, 43, 47, 53, 59, 61, 67]"
      ]
     },
     "execution_count": 8,
     "metadata": {},
     "output_type": "execute_result"
    }
   ],
   "source": [
    "def prime(min,max):\n",
    "    primes = []\n",
    "    for num in range(min, max + 1):\n",
    "        if num > 1:\n",
    "            for i in range(2, num):\n",
    "                if (num % i) == 0:\n",
    "                    break\n",
    "            else:\n",
    "                primes.append(num)\n",
    "    return primes\n",
    "prime(2,70)"
   ]
  },
  {
   "cell_type": "markdown",
   "metadata": {},
   "source": [
    "### 05) Write a function that returns True if the given string is Palindrome or False otherwise."
   ]
  },
  {
   "cell_type": "code",
   "execution_count": null,
   "metadata": {},
   "outputs": [],
   "source": [
    "def isPalindrome(s):\n",
    "    return s == s[::-1]\n",
    "isPalindrome(\"madam\")"
   ]
  },
  {
   "cell_type": "markdown",
   "metadata": {},
   "source": [
    "### 06) Write a function that returns the sum of all the elements of the list."
   ]
  },
  {
   "cell_type": "code",
   "execution_count": 36,
   "metadata": {},
   "outputs": [
    {
     "data": {
      "text/plain": [
       "55"
      ]
     },
     "execution_count": 36,
     "metadata": {},
     "output_type": "execute_result"
    }
   ],
   "source": [
    "li = [1,2,3,4,5,6,7,8,9,10]\n",
    "def sumOfListElements(li):\n",
    "    return sum(li)\n",
    "sumOfListElements(li)"
   ]
  },
  {
   "cell_type": "markdown",
   "metadata": {},
   "source": [
    "### 07) Write a function to calculate the sum of the first element of each tuples inside the list."
   ]
  },
  {
   "cell_type": "code",
   "execution_count": 38,
   "metadata": {},
   "outputs": [
    {
     "data": {
      "text/plain": [
       "6"
      ]
     },
     "execution_count": 38,
     "metadata": {},
     "output_type": "execute_result"
    }
   ],
   "source": [
    "def sumOfFirstElements(tuples):\n",
    "    return sum(x[0] for x in tuples)\n",
    "\n",
    "t1 = [(0,1),(2,3),(4,5)]\n",
    "sumOfFirstElements(t1)"
   ]
  },
  {
   "cell_type": "markdown",
   "metadata": {},
   "source": [
    "### 08) Write a recursive function to find nth term of Fibonacci Series."
   ]
  },
  {
   "cell_type": "code",
   "execution_count": 40,
   "metadata": {},
   "outputs": [
    {
     "data": {
      "text/plain": [
       "34"
      ]
     },
     "execution_count": 40,
     "metadata": {},
     "output_type": "execute_result"
    }
   ],
   "source": [
    "def fibonacci(n):\n",
    "    if n <= 0:\n",
    "        return 0\n",
    "    elif n == 1:\n",
    "        return 1\n",
    "    else:\n",
    "        return fibonacci(n-1) + fibonacci(n-2)\n",
    "fibonacci(9)"
   ]
  },
  {
   "cell_type": "markdown",
   "metadata": {},
   "source": [
    "### 09) Write a function to get the name of the student based on the given rollno.\n",
    "#### Example: Given dict1 = {101:'Ajay', 102:'Rahul', 103:'Jay', 104:'Pooja'} find name of student whose rollno = 103"
   ]
  },
  {
   "cell_type": "code",
   "execution_count": 21,
   "metadata": {},
   "outputs": [
    {
     "data": {
      "text/plain": [
       "'Jay'"
      ]
     },
     "execution_count": 21,
     "metadata": {},
     "output_type": "execute_result"
    }
   ],
   "source": [
    "dict1 = {101:'Ajay', 102:'Rahul', 103:'Jay', 104:'Pooja'}\n",
    "def nameOfStudent(rollno):\n",
    "    return dict1.get(rollno, \"Student not found\")\n",
    "\n",
    "nameOfStudent(103)"
   ]
  },
  {
   "cell_type": "markdown",
   "metadata": {},
   "source": [
    "### 10) Write a function to get the sum of the scores ending with zero.\n",
    "#### Example : scores = [200, 456, 300, 100, 234, 678] \n",
    "#### Ans = 200 + 300 + 100 = 600"
   ]
  },
  {
   "cell_type": "code",
   "execution_count": 44,
   "metadata": {},
   "outputs": [
    {
     "data": {
      "text/plain": [
       "600"
      ]
     },
     "execution_count": 44,
     "metadata": {},
     "output_type": "execute_result"
    }
   ],
   "source": [
    "scores = [200, 456, 300, 100, 234, 678]\n",
    "def sumOfEndingZero(scores):\n",
    "    return sum(score for score in scores if str(score)[-1] == '0')\n",
    "sumOfEndingZero(scores)"
   ]
  },
  {
   "cell_type": "markdown",
   "metadata": {},
   "source": [
    "### 11) Write a function to invert a given Dictionary.\n",
    "#### hint: keys to values & values to keys\n",
    "#### Before : {'a': 10, 'b':20, 'c':30, 'd':40}\n",
    "#### After : {10:'a', 20:'b', 30:'c', 40:'d'}"
   ]
  },
  {
   "cell_type": "code",
   "execution_count": 70,
   "metadata": {},
   "outputs": [
    {
     "data": {
      "text/plain": [
       "{'Ajay': 101, 'Rahul': 102, 'Jay': 103, 'Pooja': 104}"
      ]
     },
     "execution_count": 70,
     "metadata": {},
     "output_type": "execute_result"
    }
   ],
   "source": [
    "dict1 = {101:'Ajay', 102:'Rahul', 103:'Jay', 104:'Pooja'}\n",
    "def invertDict(dict1):\n",
    "    return {v: k for k, v in dict1.items()}\n",
    "\n",
    "invertDict(dict1)"
   ]
  },
  {
   "cell_type": "markdown",
   "metadata": {},
   "source": [
    "### 12) Write a function to check whether the given string is Pangram or not.\n",
    "#### hint: Pangram is a string containing all the characters a-z atlest once.\n",
    "#### \"the quick brown fox jumps over the lazy dog\" is a Pangram string."
   ]
  },
  {
   "cell_type": "code",
   "execution_count": 72,
   "metadata": {},
   "outputs": [
    {
     "name": "stdout",
     "output_type": "stream",
     "text": [
      "String is pangarm\n"
     ]
    }
   ],
   "source": [
    "str1=\"the quick brown fox jumps over the lazy dog\"\n",
    "\n",
    "def checkPanagram(str1):\n",
    "    isTrue = False\n",
    "for i in range(0,len(str1)):\n",
    "    for j in range(i+1,len(str1)):\n",
    "        if str1[i]==str1[j]:\n",
    "            isTrue = False\n",
    "        else:\n",
    "            isTrue = True\n",
    "if isTrue :\n",
    "    print(\"String is pangarm\")\n",
    "else:\n",
    "    print(\"String is not pangarm\")\n",
    "\n"
   ]
  },
  {
   "cell_type": "markdown",
   "metadata": {},
   "source": [
    "### 13) Write a function that returns the number of uppercase and lowercase letters in the given string. \n",
    "#### example : Input : s1 = AbcDEfgh ,Ouptput : no_upper = 3, no_lower = 5"
   ]
  },
  {
   "cell_type": "code",
   "execution_count": 84,
   "metadata": {},
   "outputs": [
    {
     "name": "stdout",
     "output_type": "stream",
     "text": [
      "3\n",
      "3\n"
     ]
    }
   ],
   "source": [
    "def numOfLowerAndUpper(str1):\n",
    "    no_upper = 0\n",
    "    no_lower = 0\n",
    "    for i in str1:\n",
    "        if i.isupper():\n",
    "            no_upper+=1\n",
    "        else:\n",
    "            no_lower += 1\n",
    "\n",
    "    print(no_upper)\n",
    "    print(no_lower)\n",
    "str1 = 'ASDasd'\n",
    "numOfLowerAndUpper(str1)"
   ]
  },
  {
   "cell_type": "markdown",
   "metadata": {},
   "source": [
    "### 14) Write a lambda function to get smallest number from the given two numbers."
   ]
  },
  {
   "cell_type": "code",
   "execution_count": null,
   "metadata": {},
   "outputs": [],
   "source": [
    "smallestNumber = lambda a, b : min(a,b) \n",
    "  \n",
    "print(smallestNumber(5, 8)) "
   ]
  },
  {
   "cell_type": "markdown",
   "metadata": {},
   "source": [
    "### 15) For the given list of names of students, extract the names having more that 7 characters. Use filter().\n"
   ]
  },
  {
   "cell_type": "code",
   "execution_count": 4,
   "metadata": {},
   "outputs": [
    {
     "name": "stdout",
     "output_type": "stream",
     "text": [
      "['Annabelle', 'aaaaaaaaaaaaa', 'Johnathan', 'Veronica']\n"
     ]
    }
   ],
   "source": [
    "names = [\"David\", \"John\", \"Annabelle\", '',\"Johnathan\", \"Veronica\"]\n",
    "\n",
    "print(list(filter(lambda x: len(x) > 7, names)))\n"
   ]
  },
  {
   "cell_type": "markdown",
   "metadata": {},
   "source": [
    "### 16) For the given list of names of students, convert the first letter of all the names into uppercase. use map()."
   ]
  },
  {
   "cell_type": "code",
   "execution_count": 19,
   "metadata": {},
   "outputs": [
    {
     "name": "stdout",
     "output_type": "stream",
     "text": [
      "['DAVID', 'JOHN', 'ANNABELLE', 'JOHNATHAN', 'VERONICA']\n"
     ]
    }
   ],
   "source": [
    "names = [\"David\", \"John\", \"Annabelle\",\"Johnathan\", \"Veronica\"]\n",
    "\n",
    "convert = lambda list : ([names.upper() for names in names])\n",
    "\n",
    "print(convert(names))"
   ]
  },
  {
   "cell_type": "markdown",
   "metadata": {},
   "source": [
    "### 17) Write udfs to call the functions with following types of arguments:\n",
    "1. Positional Arguments\n",
    "2. Keyword Arguments\n",
    "3. Default Arguments\n",
    "4. Variable Legngth Positional(*args) & variable length Keyword Arguments (**kwargs)\n",
    "5. Keyword-Only & Positional Only Arguments"
   ]
  },
  {
   "cell_type": "code",
   "execution_count": 25,
   "metadata": {},
   "outputs": [
    {
     "name": "stdout",
     "output_type": "stream",
     "text": [
      "Sum using positional arguments: 30\n",
      "Greeting using keyword arguments: Hello, Krish Meghapara!\n",
      "Area with default width: 50\n",
      "Area with specified width: 100\n",
      "Sum using *args: 15\n",
      "Person Details: name: Krish, age: 20, city: Rajkot, course: B.Tech\n"
     ]
    }
   ],
   "source": [
    "#Positional Arguments :\n",
    "\n",
    "def add_numbers(a, b):\n",
    "    return a + b\n",
    "\n",
    "\n",
    "result = add_numbers(10, 20)\n",
    "print(f\"Sum using positional arguments: {result}\")\n",
    "\n",
    "\n",
    "#Keyword Arguments :\n",
    "\n",
    "\n",
    "def greet_user(first_name, last_name):\n",
    "    return f\"Hello, {first_name} {last_name}!\"\n",
    "\n",
    "  \n",
    "result = greet_user(first_name=\"Krish\", last_name=\"Meghapara\")\n",
    "print(f\"Greeting using keyword arguments: {result}\")\n",
    "\n",
    "\n",
    "#Default Arguments :\n",
    "\n",
    "\n",
    "def calculate_area(length, width=10):\n",
    "    return length * width\n",
    "\n",
    "    \n",
    "result1 = calculate_area(5)  \n",
    "result2 = calculate_area(5, 20)\n",
    "print(f\"Area with default width: {result1}\")\n",
    "print(f\"Area with specified width: {result2}\")\n",
    "\n",
    "\n",
    "#Variable Legngth Positional(*args) & variable length Keyword Arguments (**kwargs) :\n",
    "\n",
    "\n",
    "\n",
    "def sum_numbers(*args):\n",
    "    return sum(args)\n",
    "\n",
    "    \n",
    "result = sum_numbers(1, 2, 3, 4, 5)\n",
    "print(f\"Sum using *args: {result}\")\n",
    "\n",
    "\n",
    "#Keyword-Only & Positional Only Arguments\n",
    "\n",
    "def describe_person(**kwargs):\n",
    "    description = \", \".join([f\"{key}: {value}\" for key, value in kwargs.items()])\n",
    "    return f\"Person Details: {description}\"\n",
    "\n",
    "    \n",
    "result = describe_person(name=\"Krish\", age=20, city=\"Rajkot\", course=\"B.Tech\")\n",
    "print(result)\n"
   ]
  },
  {
   "cell_type": "code",
   "execution_count": null,
   "metadata": {},
   "outputs": [],
   "source": []
  }
 ],
 "metadata": {
  "kernelspec": {
   "display_name": "Python 3 (ipykernel)",
   "language": "python",
   "name": "python3"
  },
  "language_info": {
   "codemirror_mode": {
    "name": "ipython",
    "version": 3
   },
   "file_extension": ".py",
   "mimetype": "text/x-python",
   "name": "python",
   "nbconvert_exporter": "python",
   "pygments_lexer": "ipython3",
   "version": "3.12.7"
  }
 },
 "nbformat": 4,
 "nbformat_minor": 4
}
