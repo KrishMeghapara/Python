{
 "cells": [
  {
   "cell_type": "markdown",
   "metadata": {},
   "source": [
    "<a href='https://www.darshan.ac.in/'> <img src='https://www.darshan.ac.in/Content/media/DU_Logo.svg' width=\"250\" height=\"300\"/></a>\n",
    "<pre>\n",
    "<center><b><h1>Python Programming - 2301CS404</b></center>\n",
    "<center><b><h1>Lab - 10</b></center>    \n",
    "<pre>"
   ]
  },
  {
   "cell_type": "markdown",
   "metadata": {},
   "source": [
    "<h1>Krish Meghapara s.</h1>\n",
    "<h2>23010101164</h2>"
   ]
  },
  {
   "cell_type": "markdown",
   "metadata": {},
   "source": [
    "# Exception Handling"
   ]
  },
  {
   "cell_type": "markdown",
   "metadata": {},
   "source": [
    "### 01) WAP to handle following exceptions:\n",
    "1. ZeroDivisionError\n",
    "2. ValueError\n",
    "3. TypeError\n",
    "#### Note: handle them using separate except blocks and also using single except block too."
   ]
  },
  {
   "cell_type": "code",
   "execution_count": 6,
   "metadata": {},
   "outputs": [
    {
     "name": "stdin",
     "output_type": "stream",
     "text": [
      "Enter numerator:  2+\n"
     ]
    },
    {
     "name": "stdout",
     "output_type": "stream",
     "text": [
      "Error: Invalid input! Please enter integers only.\n"
     ]
    }
   ],
   "source": [
    "def handle_exceptions_separately():\n",
    "    try:\n",
    "        num1 = int(input(\"Enter numerator: \"))  \n",
    "        num2 = int(input(\"Enter denominator: \")) \n",
    "        result = num1 / num2  \n",
    "        print(\"Result:\", result)\n",
    "    except ZeroDivisionError:\n",
    "        print(\"Error: Cannot divide by zero!\")\n",
    "    except ValueError:\n",
    "        print(\"Error: Invalid input! Please enter integers only.\")\n",
    "    except TypeError:\n",
    "        print(\"Error: Unsupported operation between different data types!\")\n",
    "\n",
    "handle_exceptions_separately();"
   ]
  },
  {
   "cell_type": "markdown",
   "metadata": {},
   "source": [
    "### 02)  WAP to handle following exceptions:\n",
    "1. IndexError\n",
    "2. KeyError"
   ]
  },
  {
   "cell_type": "code",
   "execution_count": 18,
   "metadata": {},
   "outputs": [
    {
     "name": "stdout",
     "output_type": "stream",
     "text": [
      "3\n",
      "Error: Key not found in dictionary!\n"
     ]
    }
   ],
   "source": [
    "def handle_index_key_errors():\n",
    "    try:\n",
    "        my_list = [1, 2, 3]\n",
    "        print(my_list[2]) \n",
    "        my_dict = {'a': 10, 'b': 20}\n",
    "        print(my_dict['c'])  \n",
    "    except IndexError:\n",
    "        print(\"Error: List index out of range!\")\n",
    "    except KeyError:\n",
    "        print(\"Error: Key not found in dictionary!\")\n",
    "\n",
    "handle_index_key_errors()"
   ]
  },
  {
   "cell_type": "markdown",
   "metadata": {},
   "source": [
    "### 03) WAP to handle following exceptions:\n",
    "1. FileNotFoundError\n",
    "2. ModuleNotFoundError"
   ]
  },
  {
   "cell_type": "code",
   "execution_count": null,
   "metadata": {},
   "outputs": [],
   "source": [
    "try:\n",
    "    with open(\"non_existing_file.txt\", \"r\") as file:\n",
    "        content = file.read()\n",
    "except FileNotFoundError:\n",
    "    print(\"Error: The file you are trying to open does not exist.\")\n",
    "\n",
    "try:\n",
    "    import non_existing_module\n",
    "except ModuleNotFoundError:\n",
    "    print(\"Error: The module you are trying to import does not exist.\")"
   ]
  },
  {
   "cell_type": "markdown",
   "metadata": {},
   "source": [
    "### 04) WAP that catches all type of exceptions in a single except block."
   ]
  },
  {
   "cell_type": "code",
   "execution_count": 8,
   "metadata": {},
   "outputs": [
    {
     "name": "stdin",
     "output_type": "stream",
     "text": [
      "Enter numerator:  2\n",
      "Enter denominator:  4\n"
     ]
    },
    {
     "name": "stdout",
     "output_type": "stream",
     "text": [
      "Result: 0.5\n"
     ]
    }
   ],
   "source": [
    "def handle_exceptions_together():\n",
    "    try:\n",
    "        num1 = int(input(\"Enter numerator: \"))  \n",
    "        num2 = int(input(\"Enter denominator: \"))  \n",
    "        result = num1 / num2  \n",
    "        print(\"Result:\", result)\n",
    "    except (ZeroDivisionError, ValueError, TypeError) as e:\n",
    "        print(f\"Error: {e}\")\n",
    "\n",
    "handle_exceptions_together()"
   ]
  },
  {
   "cell_type": "markdown",
   "metadata": {},
   "source": [
    "### 05) WAP to demonstrate else  and finally block."
   ]
  },
  {
   "cell_type": "code",
   "execution_count": null,
   "metadata": {},
   "outputs": [],
   "source": [
    "def divide_numbers(a, b):\n",
    "    try:\n",
    "        result = a / b\n",
    "    except ZeroDivisionError:\n",
    "        print(\"Error: Division by zero is not allowed.\")\n",
    "    else:\n",
    "        print(f\"Division successful! Result: {result}\")  #f'string used \n",
    "    finally:\n",
    "        print(\"This block always executes, regardless of exceptions.\")\n",
    "\n",
    "\n",
    "divide_numbers(10, 2) \n",
    "divide_numbers(10, 0) "
   ]
  },
  {
   "cell_type": "markdown",
   "metadata": {},
   "source": [
    "### 06) Create a short program that prompts the user for a list of grades separated by commas. \n",
    "### Split the string into individual grades and use a list comprehension to convert each string to an integer. \n",
    "### You should use a try statement to inform the user when the values they entered cannot be converted."
   ]
  },
  {
   "cell_type": "code",
   "execution_count": 11,
   "metadata": {},
   "outputs": [
    {
     "name": "stdin",
     "output_type": "stream",
     "text": [
      "Enter grades separated by commas:  k\n"
     ]
    },
    {
     "name": "stdout",
     "output_type": "stream",
     "text": [
      "Error: Please enter only numeric values separated by commas.\n"
     ]
    }
   ],
   "source": [
    "def get_grades():\n",
    "    grades_input = input(\"Enter grades separated by commas: \")\n",
    "    \n",
    "    try:\n",
    "        grades = [int(grade.strip()) for grade in grades_input.split(',')]\n",
    "        print(\"Grades successfully recorded:\", grades)\n",
    "    except ValueError:\n",
    "        print(\"Error: Please enter only numeric values separated by commas.\")\n",
    "\n",
    "get_grades()"
   ]
  },
  {
   "cell_type": "markdown",
   "metadata": {},
   "source": [
    "### 07) WAP to create an udf divide(a,b) that handles ZeroDivisionError."
   ]
  },
  {
   "cell_type": "markdown",
   "metadata": {},
   "source": [
    "### 08) WAP that gets an age of a person form the user and raises ValueError with error message: \"Enter Valid Age\" :\n",
    "#### If the age is less than 18. \n",
    "#### otherwise print the age."
   ]
  },
  {
   "cell_type": "code",
   "execution_count": 20,
   "metadata": {},
   "outputs": [
    {
     "name": "stdin",
     "output_type": "stream",
     "text": [
      "Enter your age:  10\n"
     ]
    },
    {
     "name": "stdout",
     "output_type": "stream",
     "text": [
      "Enter Valid Age\n"
     ]
    }
   ],
   "source": [
    "def get_age():\n",
    "    try:\n",
    "        age = int(input(\"Enter your age: \"))\n",
    "        if age < 18:\n",
    "            raise ValueError(\"Enter Valid Age\")\n",
    "        print(f\"Your age is: {age}\")\n",
    "    except ValueError as e:\n",
    "        print(e)\n",
    "\n",
    "get_age()"
   ]
  },
  {
   "cell_type": "markdown",
   "metadata": {},
   "source": [
    "### 09) WAP to raise your custom Exception named InvalidUsernameError with the error message : \"Username must be between 5 and 15 characters long\":\n",
    "#### if the given name is having characters less than 5 or greater than 15.\n",
    "#### otherwise print the given username."
   ]
  },
  {
   "cell_type": "code",
   "execution_count": 37,
   "metadata": {},
   "outputs": [
    {
     "name": "stdin",
     "output_type": "stream",
     "text": [
      "Enter your username:  krishop\n"
     ]
    },
    {
     "name": "stdout",
     "output_type": "stream",
     "text": [
      "Username is: krishop\n"
     ]
    }
   ],
   "source": [
    "def validate_username():\n",
    "    username = input(\"Enter your username: \")\n",
    "    try:\n",
    "        if len(username) < 5 or len(username) > 15:\n",
    "            raise InvalidUsernameError(\"yoo\")\n",
    "        else:\n",
    "            print(f\"Username is: {username}\")         \n",
    "    except InvalidUsernameError as e:\n",
    "        print(e)\n",
    "validate_username()\n",
    "\n"
   ]
  },
  {
   "cell_type": "markdown",
   "metadata": {},
   "source": [
    "### 10) WAP to raise your custom Exception named NegativeNumberError with the error message : \"Cannot calculate the square root of a negative number\" :\n",
    "#### if the given number is negative.\n",
    "#### otherwise print the square root of the given number."
   ]
  },
  {
   "cell_type": "code",
   "execution_count": 1,
   "metadata": {},
   "outputs": [
    {
     "ename": "SyntaxError",
     "evalue": "invalid non-printable character U+00A0 (3921084059.py, line 10)",
     "output_type": "error",
     "traceback": [
      "\u001b[1;36m  Cell \u001b[1;32mIn[1], line 10\u001b[1;36m\u001b[0m\n\u001b[1;33m    except NegativeNumberError as e:\u001b[0m\n\u001b[1;37m                                 ^\u001b[0m\n\u001b[1;31mSyntaxError\u001b[0m\u001b[1;31m:\u001b[0m invalid non-printable character U+00A0\n"
     ]
    }
   ],
   "source": [
    "class NegativeNumberError(Exception):\n",
    "    def _init_(self, msg):\n",
    "        self.msg = msg;\n",
    "try:\n",
    "    num = int(input(\"Enter a Number\"))\n",
    "    if num < 0 :\n",
    "        raise NegativeNumberError(\"Cannot calculate the square root of a negative number\");\n",
    "    else:\n",
    "        print(pow(num,0.5));\n",
    "except NegativeNumberError as e:\n",
    "    print(e);"
   ]
  },
  {
   "cell_type": "code",
   "execution_count": null,
   "metadata": {},
   "outputs": [],
   "source": []
  },
  {
   "cell_type": "code",
   "execution_count": null,
   "metadata": {},
   "outputs": [],
   "source": []
  }
 ],
 "metadata": {
  "kernelspec": {
   "display_name": "Python 3 (ipykernel)",
   "language": "python",
   "name": "python3"
  },
  "language_info": {
   "codemirror_mode": {
    "name": "ipython",
    "version": 3
   },
   "file_extension": ".py",
   "mimetype": "text/x-python",
   "name": "python",
   "nbconvert_exporter": "python",
   "pygments_lexer": "ipython3",
   "version": "3.12.7"
  }
 },
 "nbformat": 4,
 "nbformat_minor": 4
}
